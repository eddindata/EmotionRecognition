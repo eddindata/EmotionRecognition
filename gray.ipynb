{
 "cells": [
  {
   "cell_type": "code",
   "execution_count": 12,
   "metadata": {},
   "outputs": [],
   "source": [
    "import cv2\n",
    "import os\n",
    "import numpy as np\n",
    "import time\n",
    "import scipy\n",
    "import tensorflow as tf\n",
    "import matplotlib.pyplot as plt\n",
    "\n",
    "from keras.preprocessing.image import img_to_array\n",
    "from tensorflow.keras.utils import load_img\n",
    "from keras.preprocessing.image import ImageDataGenerator\n",
    "from keras.layers import Dense,Input,Dropout,GlobalAveragePooling2D,Flatten,Conv2D,BatchNormalization,Activation,MaxPooling2D\n",
    "from keras.models import Model,Sequential\n",
    "from keras.optimizers import Adam,SGD,RMSprop\n",
    "from keras.callbacks import ModelCheckpoint, EarlyStopping, ReduceLROnPlateau\n",
    "from sklearn.model_selection import train_test_split\n",
    "from tensorflow.keras.utils import plot_model\n",
    "from keras.preprocessing import image\n",
    "from keras.models import load_model\n"
   ]
  },
  {
   "cell_type": "code",
   "execution_count": 29,
   "metadata": {},
   "outputs": [],
   "source": [
    "dataPath = 'data_gray/'\n",
    "picture_size = 48\n",
    "batch_size  = 64\n",
    "var_seed = 2022\n",
    "no_of_classes = 7\n",
    "epochs = 75\n",
    "\n",
    "label_dict = {0:'Angry',1:'Disgust',2:'Fear',3:'Happy',4:'Neutral',5:'Sad',6:'Surprise'}"
   ]
  },
  {
   "cell_type": "markdown",
   "metadata": {},
   "source": [
    "### Own gray model - 1 Channel"
   ]
  },
  {
   "cell_type": "code",
   "execution_count": 3,
   "metadata": {},
   "outputs": [
    {
     "name": "stdout",
     "output_type": "stream",
     "text": [
      "Found 28713 images belonging to 7 classes.\n",
      "Found 7174 images belonging to 7 classes.\n"
     ]
    }
   ],
   "source": [
    "datagen_train = tf.keras.preprocessing.image.ImageDataGenerator(rescale = 1./255, validation_split=0.2)\n",
    "\n",
    "train_set = datagen_train.flow_from_directory(\n",
    "                                            dataPath,\n",
    "                                            subset=\"training\",\n",
    "                                            target_size = (picture_size,picture_size),\n",
    "                                            color_mode = \"grayscale\",\n",
    "                                            batch_size = batch_size,\n",
    "                                            class_mode = 'categorical',\n",
    "                                            shuffle = True, \n",
    "                                            seed  = var_seed)\n",
    "\n",
    "val_set = datagen_train.flow_from_directory(\n",
    "                                            dataPath,\n",
    "                                            subset=\"validation\",\n",
    "                                            target_size = (picture_size,picture_size),\n",
    "                                            color_mode = \"grayscale\",\n",
    "                                            batch_size = batch_size,\n",
    "                                            class_mode = 'categorical',\n",
    "                                            shuffle = False, \n",
    "                                            seed  = var_seed)"
   ]
  },
  {
   "cell_type": "code",
   "execution_count": 4,
   "metadata": {},
   "outputs": [
    {
     "name": "stdout",
     "output_type": "stream",
     "text": [
      "Model: \"sequential\"\n",
      "_________________________________________________________________\n",
      " Layer (type)                Output Shape              Param #   \n",
      "=================================================================\n",
      " conv2d (Conv2D)             (None, 48, 48, 64)        640       \n",
      "                                                                 \n",
      " batch_normalization (Batch  (None, 48, 48, 64)        256       \n",
      " Normalization)                                                  \n",
      "                                                                 \n",
      " activation (Activation)     (None, 48, 48, 64)        0         \n",
      "                                                                 \n",
      " dropout (Dropout)           (None, 48, 48, 64)        0         \n",
      "                                                                 \n",
      " conv2d_1 (Conv2D)           (None, 48, 48, 64)        36928     \n",
      "                                                                 \n",
      " batch_normalization_1 (Bat  (None, 48, 48, 64)        256       \n",
      " chNormalization)                                                \n",
      "                                                                 \n",
      " activation_1 (Activation)   (None, 48, 48, 64)        0         \n",
      "                                                                 \n",
      " max_pooling2d (MaxPooling2  (None, 24, 24, 64)        0         \n",
      " D)                                                              \n",
      "                                                                 \n",
      " dropout_1 (Dropout)         (None, 24, 24, 64)        0         \n",
      "                                                                 \n",
      " conv2d_2 (Conv2D)           (None, 24, 24, 128)       73856     \n",
      "                                                                 \n",
      " batch_normalization_2 (Bat  (None, 24, 24, 128)       512       \n",
      " chNormalization)                                                \n",
      "                                                                 \n",
      " activation_2 (Activation)   (None, 24, 24, 128)       0         \n",
      "                                                                 \n",
      " max_pooling2d_1 (MaxPoolin  (None, 12, 12, 128)       0         \n",
      " g2D)                                                            \n",
      "                                                                 \n",
      " dropout_2 (Dropout)         (None, 12, 12, 128)       0         \n",
      "                                                                 \n",
      " conv2d_3 (Conv2D)           (None, 12, 12, 256)       295168    \n",
      "                                                                 \n",
      " batch_normalization_3 (Bat  (None, 12, 12, 256)       1024      \n",
      " chNormalization)                                                \n",
      "                                                                 \n",
      " activation_3 (Activation)   (None, 12, 12, 256)       0         \n",
      "                                                                 \n",
      " max_pooling2d_2 (MaxPoolin  (None, 6, 6, 256)         0         \n",
      " g2D)                                                            \n",
      "                                                                 \n",
      " dropout_3 (Dropout)         (None, 6, 6, 256)         0         \n",
      "                                                                 \n",
      " conv2d_4 (Conv2D)           (None, 6, 6, 512)         3277312   \n",
      "                                                                 \n",
      " batch_normalization_4 (Bat  (None, 6, 6, 512)         2048      \n",
      " chNormalization)                                                \n",
      "                                                                 \n",
      " activation_4 (Activation)   (None, 6, 6, 512)         0         \n",
      "                                                                 \n",
      " max_pooling2d_3 (MaxPoolin  (None, 3, 3, 512)         0         \n",
      " g2D)                                                            \n",
      "                                                                 \n",
      " dropout_4 (Dropout)         (None, 3, 3, 512)         0         \n",
      "                                                                 \n",
      " flatten (Flatten)           (None, 4608)              0         \n",
      "                                                                 \n",
      " dense (Dense)               (None, 64)                294976    \n",
      "                                                                 \n",
      " batch_normalization_5 (Bat  (None, 64)                256       \n",
      " chNormalization)                                                \n",
      "                                                                 \n",
      " activation_5 (Activation)   (None, 64)                0         \n",
      "                                                                 \n",
      " dropout_5 (Dropout)         (None, 64)                0         \n",
      "                                                                 \n",
      " dense_1 (Dense)             (None, 128)               8320      \n",
      "                                                                 \n",
      " batch_normalization_6 (Bat  (None, 128)               512       \n",
      " chNormalization)                                                \n",
      "                                                                 \n",
      " activation_6 (Activation)   (None, 128)               0         \n",
      "                                                                 \n",
      " dropout_6 (Dropout)         (None, 128)               0         \n",
      "                                                                 \n",
      " dense_2 (Dense)             (None, 7)                 903       \n",
      "                                                                 \n",
      "=================================================================\n",
      "Total params: 3992967 (15.23 MB)\n",
      "Trainable params: 3990535 (15.22 MB)\n",
      "Non-trainable params: 2432 (9.50 KB)\n",
      "_________________________________________________________________\n"
     ]
    }
   ],
   "source": [
    "own_model = tf.keras.Sequential([\n",
    "    tf.keras.layers.Conv2D(64,(3,3),padding = 'same',input_shape = (48,48,1)),\n",
    "    tf.keras.layers.BatchNormalization(),\n",
    "    tf.keras.layers.Activation('relu'),\n",
    "    #tf.keras.layers.MaxPooling2D(pool_size = (2,2)),   \n",
    "    tf.keras.layers.Dropout(0.25),   \n",
    "    \n",
    "    \n",
    "    tf.keras.layers.Conv2D(64,(3,3),padding = 'same'),\n",
    "    tf.keras.layers.BatchNormalization(),\n",
    "    tf.keras.layers.Activation('relu'),\n",
    "    tf.keras.layers.MaxPooling2D(pool_size = (2,2)),   \n",
    "    tf.keras.layers.Dropout(0.25), \n",
    "\n",
    "    tf.keras.layers.Conv2D(128,(3,3),padding = 'same'),\n",
    "    tf.keras.layers.BatchNormalization(),\n",
    "    tf.keras.layers.Activation('relu'),\n",
    "    tf.keras.layers.MaxPooling2D(pool_size = (2,2)),   \n",
    "    tf.keras.layers.Dropout(0.30),    \n",
    "\n",
    "    tf.keras.layers.Conv2D(256,(3,3),padding = 'same'),\n",
    "    tf.keras.layers.BatchNormalization(),\n",
    "    tf.keras.layers.Activation('relu'),\n",
    "    tf.keras.layers.MaxPooling2D(pool_size = (2,2)),   \n",
    "    tf.keras.layers.Dropout(0.30),       \n",
    "\n",
    "    tf.keras.layers.Conv2D(512,(5,5),padding = 'same'),\n",
    "    tf.keras.layers.BatchNormalization(),\n",
    "    tf.keras.layers.Activation('relu'),\n",
    "    tf.keras.layers.MaxPooling2D(pool_size = (2,2)),   \n",
    "    tf.keras.layers.Dropout(0.30),      \n",
    "    \n",
    "\n",
    "    tf.keras.layers.Flatten(),\n",
    "\n",
    "\n",
    "    tf.keras.layers.Dense(64),\n",
    "    tf.keras.layers.BatchNormalization(),\n",
    "    tf.keras.layers.Activation('relu'),\n",
    "    tf.keras.layers.Dropout(0.25),\n",
    "    \n",
    "    tf.keras.layers.Dense(128),\n",
    "    tf.keras.layers.BatchNormalization(),\n",
    "    tf.keras.layers.Activation('relu'),\n",
    "    tf.keras.layers.Dropout(0.3),\n",
    "    \n",
    "    \n",
    "    tf.keras.layers.Dense(no_of_classes, activation='softmax')\n",
    "])\n",
    "\n",
    "opt = Adam(learning_rate= 0.0001)\n",
    "own_model.compile(optimizer=opt,loss='categorical_crossentropy', metrics=['accuracy'])\n",
    "own_model.summary()"
   ]
  },
  {
   "cell_type": "code",
   "execution_count": 5,
   "metadata": {},
   "outputs": [],
   "source": [
    "checkpoint = ModelCheckpoint(\"models/gray/own_model_gray.h5\", monitor='val_accuracy', verbose=1, save_best_only=True, mode='max')\n",
    "\n",
    "early_stopping = EarlyStopping(monitor='val_loss',\n",
    "                          min_delta=0.001,\n",
    "                          patience=5,\n",
    "                          verbose=1,\n",
    "                          restore_best_weights=True\n",
    "                          )\n",
    "\n",
    "reduce_learningrate = ReduceLROnPlateau(monitor='val_loss',\n",
    "                              factor=0.2,\n",
    "                              patience=5,\n",
    "                              verbose=1,\n",
    "                              min_delta=0.001)\n",
    "\n",
    "callbacks_list = [early_stopping,checkpoint,reduce_learningrate]\n",
    "\n",
    "\n",
    "own_model.compile(loss='categorical_crossentropy',\n",
    "              optimizer = Adam(learning_rate=0.001),\n",
    "              metrics=['accuracy'])"
   ]
  },
  {
   "cell_type": "code",
   "execution_count": 6,
   "metadata": {},
   "outputs": [
    {
     "name": "stdout",
     "output_type": "stream",
     "text": [
      "Epoch 1/75\n",
      "449/449 [==============================] - ETA: 0s - loss: 1.8075 - accuracy: 0.2853\n",
      "Epoch 1: val_accuracy improved from -inf to 0.30638, saving model to models/gray\\own_model_gray.h5\n",
      "449/449 [==============================] - 414s 918ms/step - loss: 1.8075 - accuracy: 0.2853 - val_loss: 1.7634 - val_accuracy: 0.3064 - lr: 0.0010\n",
      "Epoch 2/75\n"
     ]
    },
    {
     "name": "stderr",
     "output_type": "stream",
     "text": [
      "e:\\Estudios\\MCDD\\Mod_12_DeepLearning\\TrabajoFinal\\Proyecto\\env\\lib\\site-packages\\keras\\src\\engine\\training.py:3000: UserWarning: You are saving your model as an HDF5 file via `model.save()`. This file format is considered legacy. We recommend using instead the native Keras format, e.g. `model.save('my_model.keras')`.\n",
      "  saving_api.save_model(\n"
     ]
    },
    {
     "name": "stdout",
     "output_type": "stream",
     "text": [
      "449/449 [==============================] - ETA: 0s - loss: 1.4673 - accuracy: 0.4319\n",
      "Epoch 2: val_accuracy improved from 0.30638 to 0.46027, saving model to models/gray\\own_model_gray.h5\n",
      "449/449 [==============================] - 359s 799ms/step - loss: 1.4673 - accuracy: 0.4319 - val_loss: 1.4370 - val_accuracy: 0.4603 - lr: 0.0010\n",
      "Epoch 3/75\n",
      "449/449 [==============================] - ETA: 0s - loss: 1.3141 - accuracy: 0.4965\n",
      "Epoch 3: val_accuracy improved from 0.46027 to 0.52788, saving model to models/gray\\own_model_gray.h5\n",
      "449/449 [==============================] - 356s 794ms/step - loss: 1.3141 - accuracy: 0.4965 - val_loss: 1.2144 - val_accuracy: 0.5279 - lr: 0.0010\n",
      "Epoch 4/75\n",
      "449/449 [==============================] - ETA: 0s - loss: 1.2309 - accuracy: 0.5309\n",
      "Epoch 4: val_accuracy improved from 0.52788 to 0.54391, saving model to models/gray\\own_model_gray.h5\n",
      "449/449 [==============================] - 359s 800ms/step - loss: 1.2309 - accuracy: 0.5309 - val_loss: 1.1854 - val_accuracy: 0.5439 - lr: 0.0010\n",
      "Epoch 5/75\n",
      "449/449 [==============================] - ETA: 0s - loss: 1.1780 - accuracy: 0.5585\n",
      "Epoch 5: val_accuracy improved from 0.54391 to 0.55813, saving model to models/gray\\own_model_gray.h5\n",
      "449/449 [==============================] - 358s 797ms/step - loss: 1.1780 - accuracy: 0.5585 - val_loss: 1.1574 - val_accuracy: 0.5581 - lr: 0.0010\n",
      "Epoch 6/75\n",
      "449/449 [==============================] - ETA: 0s - loss: 1.1378 - accuracy: 0.5709\n",
      "Epoch 6: val_accuracy improved from 0.55813 to 0.58224, saving model to models/gray\\own_model_gray.h5\n",
      "449/449 [==============================] - 360s 802ms/step - loss: 1.1378 - accuracy: 0.5709 - val_loss: 1.1076 - val_accuracy: 0.5822 - lr: 0.0010\n",
      "Epoch 7/75\n",
      "449/449 [==============================] - ETA: 0s - loss: 1.0940 - accuracy: 0.5900\n",
      "Epoch 7: val_accuracy did not improve from 0.58224\n",
      "449/449 [==============================] - 362s 807ms/step - loss: 1.0940 - accuracy: 0.5900 - val_loss: 1.1831 - val_accuracy: 0.5454 - lr: 0.0010\n",
      "Epoch 8/75\n",
      "449/449 [==============================] - ETA: 0s - loss: 1.0599 - accuracy: 0.6021\n",
      "Epoch 8: val_accuracy did not improve from 0.58224\n",
      "449/449 [==============================] - 360s 802ms/step - loss: 1.0599 - accuracy: 0.6021 - val_loss: 1.1621 - val_accuracy: 0.5626 - lr: 0.0010\n",
      "Epoch 9/75\n",
      "449/449 [==============================] - ETA: 0s - loss: 1.0249 - accuracy: 0.6177\n",
      "Epoch 9: val_accuracy did not improve from 0.58224\n",
      "449/449 [==============================] - 360s 801ms/step - loss: 1.0249 - accuracy: 0.6177 - val_loss: 1.1225 - val_accuracy: 0.5729 - lr: 0.0010\n",
      "Epoch 10/75\n",
      "449/449 [==============================] - ETA: 0s - loss: 0.9873 - accuracy: 0.6304\n",
      "Epoch 10: val_accuracy improved from 0.58224 to 0.60691, saving model to models/gray\\own_model_gray.h5\n",
      "449/449 [==============================] - 369s 823ms/step - loss: 0.9873 - accuracy: 0.6304 - val_loss: 1.0309 - val_accuracy: 0.6069 - lr: 0.0010\n",
      "Epoch 11/75\n",
      "449/449 [==============================] - ETA: 0s - loss: 0.9502 - accuracy: 0.6465\n",
      "Epoch 11: val_accuracy did not improve from 0.60691\n",
      "449/449 [==============================] - 361s 803ms/step - loss: 0.9502 - accuracy: 0.6465 - val_loss: 1.0490 - val_accuracy: 0.6038 - lr: 0.0010\n",
      "Epoch 12/75\n",
      "449/449 [==============================] - ETA: 0s - loss: 0.9095 - accuracy: 0.6611\n",
      "Epoch 12: val_accuracy improved from 0.60691 to 0.62796, saving model to models/gray\\own_model_gray.h5\n",
      "449/449 [==============================] - 357s 795ms/step - loss: 0.9095 - accuracy: 0.6611 - val_loss: 0.9957 - val_accuracy: 0.6280 - lr: 0.0010\n",
      "Epoch 13/75\n",
      "449/449 [==============================] - ETA: 0s - loss: 0.8798 - accuracy: 0.6778\n",
      "Epoch 13: val_accuracy did not improve from 0.62796\n",
      "449/449 [==============================] - 365s 812ms/step - loss: 0.8798 - accuracy: 0.6778 - val_loss: 1.0827 - val_accuracy: 0.5986 - lr: 0.0010\n",
      "Epoch 14/75\n",
      "449/449 [==============================] - ETA: 0s - loss: 0.8319 - accuracy: 0.6935\n",
      "Epoch 14: val_accuracy did not improve from 0.62796\n",
      "449/449 [==============================] - 370s 823ms/step - loss: 0.8319 - accuracy: 0.6935 - val_loss: 1.0164 - val_accuracy: 0.6241 - lr: 0.0010\n",
      "Epoch 15/75\n",
      "449/449 [==============================] - ETA: 0s - loss: 0.7996 - accuracy: 0.7050\n",
      "Epoch 15: val_accuracy did not improve from 0.62796\n",
      "449/449 [==============================] - 365s 812ms/step - loss: 0.7996 - accuracy: 0.7050 - val_loss: 1.0701 - val_accuracy: 0.6147 - lr: 0.0010\n",
      "Epoch 16/75\n",
      "449/449 [==============================] - ETA: 0s - loss: 0.7660 - accuracy: 0.7178\n",
      "Epoch 16: val_accuracy did not improve from 0.62796\n",
      "449/449 [==============================] - 360s 802ms/step - loss: 0.7660 - accuracy: 0.7178 - val_loss: 1.0684 - val_accuracy: 0.6119 - lr: 0.0010\n",
      "Epoch 17/75\n",
      "449/449 [==============================] - ETA: 0s - loss: 0.7295 - accuracy: 0.7321Restoring model weights from the end of the best epoch: 12.\n",
      "\n",
      "Epoch 17: val_accuracy improved from 0.62796 to 0.63619, saving model to models/gray\\own_model_gray.h5\n",
      "\n",
      "Epoch 17: ReduceLROnPlateau reducing learning rate to 0.00020000000949949026.\n",
      "449/449 [==============================] - 366s 814ms/step - loss: 0.7295 - accuracy: 0.7321 - val_loss: 1.0193 - val_accuracy: 0.6362 - lr: 0.0010\n",
      "Epoch 17: early stopping\n",
      "CPU times: total: 2h 51min 33s\n",
      "Wall time: 1h 43min 21s\n"
     ]
    }
   ],
   "source": [
    "%%time\n",
    "history = own_model.fit(train_set,\n",
    "                                #steps_per_epoch=train_set.n//train_set.batch_size,\n",
    "                                epochs=epochs,\n",
    "                                validation_data = val_set,\n",
    "                                #validation_steps = val_set.n//val_set.batch_size,\n",
    "                                callbacks=callbacks_list\n",
    "                                )"
   ]
  },
  {
   "cell_type": "markdown",
   "metadata": {},
   "source": [
    "### Gray model - 3 Channel"
   ]
  },
  {
   "cell_type": "code",
   "execution_count": 7,
   "metadata": {},
   "outputs": [
    {
     "name": "stdout",
     "output_type": "stream",
     "text": [
      "Found 28713 images belonging to 7 classes.\n",
      "Found 7174 images belonging to 7 classes.\n"
     ]
    }
   ],
   "source": [
    "datagen_train = tf.keras.preprocessing.image.ImageDataGenerator(rescale = 1./255, validation_split=0.2)\n",
    "\n",
    "train_set = datagen_train.flow_from_directory(\n",
    "                                            dataPath,\n",
    "                                            subset=\"training\",\n",
    "                                            target_size = (picture_size,picture_size),\n",
    "                                            #color_mode = \"grayscale\",\n",
    "                                            batch_size = batch_size,\n",
    "                                            class_mode = 'categorical',\n",
    "                                            shuffle = True, \n",
    "                                            seed  = var_seed)\n",
    "\n",
    "val_set = datagen_train.flow_from_directory(\n",
    "                                            dataPath,\n",
    "                                            subset=\"validation\",\n",
    "                                            target_size = (picture_size,picture_size),\n",
    "                                            #color_mode = \"grayscale\",\n",
    "                                            batch_size = batch_size,\n",
    "                                            class_mode = 'categorical',\n",
    "                                            shuffle = False, \n",
    "                                            seed  = var_seed)"
   ]
  },
  {
   "cell_type": "markdown",
   "metadata": {},
   "source": [
    "### VGG16"
   ]
  },
  {
   "cell_type": "code",
   "execution_count": 8,
   "metadata": {},
   "outputs": [
    {
     "name": "stdout",
     "output_type": "stream",
     "text": [
      "Model: \"sequential_1\"\n",
      "_________________________________________________________________\n",
      " Layer (type)                Output Shape              Param #   \n",
      "=================================================================\n",
      " vgg16 (Functional)          (None, 1, 1, 512)         14714688  \n",
      "                                                                 \n",
      " flatten_1 (Flatten)         (None, 512)               0         \n",
      "                                                                 \n",
      " dense_3 (Dense)             (None, 512)               262656    \n",
      "                                                                 \n",
      " batch_normalization_7 (Bat  (None, 512)               2048      \n",
      " chNormalization)                                                \n",
      "                                                                 \n",
      " activation_7 (Activation)   (None, 512)               0         \n",
      "                                                                 \n",
      " dropout_7 (Dropout)         (None, 512)               0         \n",
      "                                                                 \n",
      " dense_4 (Dense)             (None, 7)                 3591      \n",
      "                                                                 \n",
      "=================================================================\n",
      "Total params: 14982983 (57.16 MB)\n",
      "Trainable params: 267271 (1.02 MB)\n",
      "Non-trainable params: 14715712 (56.14 MB)\n",
      "_________________________________________________________________\n"
     ]
    }
   ],
   "source": [
    "vgg16 = tf.keras.applications.VGG16(input_shape=(picture_size, picture_size, 3), include_top=False, weights='imagenet')\n",
    "vgg16.trainable = False\n",
    "\n",
    "vgg16_model = tf.keras.Sequential([\n",
    "    vgg16,\n",
    "\n",
    "    tf.keras.layers.Flatten(),\n",
    "\n",
    "    tf.keras.layers.Dense(512),\n",
    "    tf.keras.layers.BatchNormalization(),\n",
    "    tf.keras.layers.Activation('relu'),\n",
    "    tf.keras.layers.Dropout(0.3),\n",
    "    \n",
    "    tf.keras.layers.Dense(no_of_classes, activation='softmax')\n",
    "])\n",
    "\n",
    "opt = Adam(learning_rate= 0.0001)\n",
    "vgg16_model.compile(optimizer=opt,loss='categorical_crossentropy', metrics=['accuracy'])\n",
    "vgg16_model.summary()"
   ]
  },
  {
   "cell_type": "code",
   "execution_count": 9,
   "metadata": {},
   "outputs": [],
   "source": [
    "checkpoint = ModelCheckpoint(\"models/gray/vgg16_model_3.h5\", monitor='val_accuracy', verbose=1, save_best_only=True, mode='max')\n",
    "\n",
    "early_stopping = EarlyStopping(monitor='val_loss',\n",
    "                          min_delta=0.0001,\n",
    "                          patience=5,\n",
    "                          verbose=1,\n",
    "                          restore_best_weights=True\n",
    "                          )\n",
    "\n",
    "reduce_learningrate = ReduceLROnPlateau(monitor='val_loss',\n",
    "                              factor=0.2,\n",
    "                              patience=5,\n",
    "                              verbose=1,\n",
    "                              min_delta=0.0001)\n",
    "\n",
    "callbacks_list = [early_stopping,checkpoint,reduce_learningrate]\n",
    "\n",
    "vgg16_model.compile(loss='categorical_crossentropy',\n",
    "              optimizer = Adam(learning_rate=0.001),\n",
    "              metrics=['accuracy'])"
   ]
  },
  {
   "cell_type": "code",
   "execution_count": 11,
   "metadata": {},
   "outputs": [
    {
     "name": "stdout",
     "output_type": "stream",
     "text": [
      "Epoch 1/75\n",
      "449/449 [==============================] - ETA: 0s - loss: 1.6996 - accuracy: 0.3523\n",
      "Epoch 1: val_accuracy improved from -inf to 0.40619, saving model to models/gray\\vgg16_model_3.h5\n",
      "449/449 [==============================] - 113s 250ms/step - loss: 1.6996 - accuracy: 0.3523 - val_loss: 1.5558 - val_accuracy: 0.4062 - lr: 0.0010\n",
      "Epoch 2/75\n"
     ]
    },
    {
     "name": "stderr",
     "output_type": "stream",
     "text": [
      "e:\\Estudios\\MCDD\\Mod_12_DeepLearning\\TrabajoFinal\\Proyecto\\env\\lib\\site-packages\\keras\\src\\engine\\training.py:3000: UserWarning: You are saving your model as an HDF5 file via `model.save()`. This file format is considered legacy. We recommend using instead the native Keras format, e.g. `model.save('my_model.keras')`.\n",
      "  saving_api.save_model(\n"
     ]
    },
    {
     "name": "stdout",
     "output_type": "stream",
     "text": [
      "449/449 [==============================] - ETA: 0s - loss: 1.5211 - accuracy: 0.4149\n",
      "Epoch 2: val_accuracy improved from 0.40619 to 0.41609, saving model to models/gray\\vgg16_model_3.h5\n",
      "449/449 [==============================] - 112s 250ms/step - loss: 1.5211 - accuracy: 0.4149 - val_loss: 1.5312 - val_accuracy: 0.4161 - lr: 0.0010\n",
      "Epoch 3/75\n",
      "449/449 [==============================] - ETA: 0s - loss: 1.4610 - accuracy: 0.4411\n",
      "Epoch 3: val_accuracy did not improve from 0.41609\n",
      "449/449 [==============================] - 114s 253ms/step - loss: 1.4610 - accuracy: 0.4411 - val_loss: 1.5237 - val_accuracy: 0.3999 - lr: 0.0010\n",
      "Epoch 4/75\n",
      "449/449 [==============================] - ETA: 0s - loss: 1.4217 - accuracy: 0.4583\n",
      "Epoch 4: val_accuracy improved from 0.41609 to 0.42543, saving model to models/gray\\vgg16_model_3.h5\n",
      "449/449 [==============================] - 116s 259ms/step - loss: 1.4217 - accuracy: 0.4583 - val_loss: 1.5009 - val_accuracy: 0.4254 - lr: 0.0010\n",
      "Epoch 5/75\n",
      "449/449 [==============================] - ETA: 0s - loss: 1.3898 - accuracy: 0.4715\n",
      "Epoch 5: val_accuracy did not improve from 0.42543\n",
      "449/449 [==============================] - 115s 257ms/step - loss: 1.3898 - accuracy: 0.4715 - val_loss: 1.5508 - val_accuracy: 0.4027 - lr: 0.0010\n",
      "Epoch 6/75\n",
      "449/449 [==============================] - ETA: 0s - loss: 1.3645 - accuracy: 0.4809\n",
      "Epoch 6: val_accuracy improved from 0.42543 to 0.43030, saving model to models/gray\\vgg16_model_3.h5\n",
      "449/449 [==============================] - 116s 258ms/step - loss: 1.3645 - accuracy: 0.4809 - val_loss: 1.5013 - val_accuracy: 0.4303 - lr: 0.0010\n",
      "Epoch 7/75\n",
      "449/449 [==============================] - ETA: 0s - loss: 1.3284 - accuracy: 0.4944\n",
      "Epoch 7: val_accuracy improved from 0.43030 to 0.43198, saving model to models/gray\\vgg16_model_3.h5\n",
      "449/449 [==============================] - 118s 262ms/step - loss: 1.3284 - accuracy: 0.4944 - val_loss: 1.4831 - val_accuracy: 0.4320 - lr: 0.0010\n",
      "Epoch 8/75\n",
      "449/449 [==============================] - ETA: 0s - loss: 1.2962 - accuracy: 0.5118\n",
      "Epoch 8: val_accuracy improved from 0.43198 to 0.44271, saving model to models/gray\\vgg16_model_3.h5\n",
      "449/449 [==============================] - 119s 265ms/step - loss: 1.2962 - accuracy: 0.5118 - val_loss: 1.4859 - val_accuracy: 0.4427 - lr: 0.0010\n",
      "Epoch 9/75\n",
      "449/449 [==============================] - ETA: 0s - loss: 1.2685 - accuracy: 0.5207\n",
      "Epoch 9: val_accuracy did not improve from 0.44271\n",
      "449/449 [==============================] - 115s 257ms/step - loss: 1.2685 - accuracy: 0.5207 - val_loss: 1.5215 - val_accuracy: 0.4323 - lr: 0.0010\n",
      "Epoch 10/75\n",
      "449/449 [==============================] - ETA: 0s - loss: 1.2379 - accuracy: 0.5354\n",
      "Epoch 10: val_accuracy improved from 0.44271 to 0.45247, saving model to models/gray\\vgg16_model_3.h5\n",
      "449/449 [==============================] - 114s 255ms/step - loss: 1.2379 - accuracy: 0.5354 - val_loss: 1.4759 - val_accuracy: 0.4525 - lr: 0.0010\n",
      "Epoch 11/75\n",
      "449/449 [==============================] - ETA: 0s - loss: 1.2083 - accuracy: 0.5452\n",
      "Epoch 11: val_accuracy did not improve from 0.45247\n",
      "449/449 [==============================] - 118s 262ms/step - loss: 1.2083 - accuracy: 0.5452 - val_loss: 1.4867 - val_accuracy: 0.4515 - lr: 0.0010\n",
      "Epoch 12/75\n",
      "449/449 [==============================] - ETA: 0s - loss: 1.1791 - accuracy: 0.5602\n",
      "Epoch 12: val_accuracy improved from 0.45247 to 0.46222, saving model to models/gray\\vgg16_model_3.h5\n",
      "449/449 [==============================] - 116s 258ms/step - loss: 1.1791 - accuracy: 0.5602 - val_loss: 1.4699 - val_accuracy: 0.4622 - lr: 0.0010\n",
      "Epoch 13/75\n",
      "449/449 [==============================] - ETA: 0s - loss: 1.1463 - accuracy: 0.5707\n",
      "Epoch 13: val_accuracy did not improve from 0.46222\n",
      "449/449 [==============================] - 121s 269ms/step - loss: 1.1463 - accuracy: 0.5707 - val_loss: 1.5043 - val_accuracy: 0.4515 - lr: 0.0010\n",
      "Epoch 14/75\n",
      "449/449 [==============================] - ETA: 0s - loss: 1.1189 - accuracy: 0.5822\n",
      "Epoch 14: val_accuracy did not improve from 0.46222\n",
      "449/449 [==============================] - 120s 268ms/step - loss: 1.1189 - accuracy: 0.5822 - val_loss: 1.5015 - val_accuracy: 0.4459 - lr: 0.0010\n",
      "Epoch 15/75\n",
      "449/449 [==============================] - ETA: 0s - loss: 1.0861 - accuracy: 0.5947\n",
      "Epoch 15: val_accuracy did not improve from 0.46222\n",
      "449/449 [==============================] - 116s 258ms/step - loss: 1.0861 - accuracy: 0.5947 - val_loss: 1.4827 - val_accuracy: 0.4603 - lr: 0.0010\n",
      "Epoch 16/75\n",
      "449/449 [==============================] - ETA: 0s - loss: 1.0612 - accuracy: 0.6071\n",
      "Epoch 16: val_accuracy improved from 0.46222 to 0.46404, saving model to models/gray\\vgg16_model_3.h5\n",
      "449/449 [==============================] - 118s 262ms/step - loss: 1.0612 - accuracy: 0.6071 - val_loss: 1.5296 - val_accuracy: 0.4640 - lr: 0.0010\n",
      "Epoch 17/75\n",
      "449/449 [==============================] - ETA: 0s - loss: 1.0322 - accuracy: 0.6191Restoring model weights from the end of the best epoch: 12.\n",
      "\n",
      "Epoch 17: val_accuracy did not improve from 0.46404\n",
      "\n",
      "Epoch 17: ReduceLROnPlateau reducing learning rate to 0.00020000000949949026.\n",
      "449/449 [==============================] - 117s 261ms/step - loss: 1.0322 - accuracy: 0.6191 - val_loss: 1.5241 - val_accuracy: 0.4555 - lr: 0.0010\n",
      "Epoch 17: early stopping\n",
      "CPU times: total: 1h 39min 5s\n",
      "Wall time: 32min 58s\n"
     ]
    }
   ],
   "source": [
    "%%time\n",
    "history = vgg16_model.fit(train_set,\n",
    "                                #steps_per_epoch=train_set.n//train_set.batch_size,\n",
    "                                epochs=epochs,\n",
    "                                validation_data = val_set,\n",
    "                                #validation_steps = test_set.n//test_set.batch_size,\n",
    "                                callbacks=callbacks_list\n",
    "                                )"
   ]
  },
  {
   "cell_type": "markdown",
   "metadata": {},
   "source": [
    "### Resnet"
   ]
  },
  {
   "cell_type": "code",
   "execution_count": 59,
   "metadata": {},
   "outputs": [
    {
     "name": "stdout",
     "output_type": "stream",
     "text": [
      "Model: \"sequential_1\"\n",
      "_________________________________________________________________\n",
      " Layer (type)                Output Shape              Param #   \n",
      "=================================================================\n",
      " resnet50 (Functional)       (None, 2, 2, 2048)        23587712  \n",
      "                                                                 \n",
      " flatten_1 (Flatten)         (None, 8192)              0         \n",
      "                                                                 \n",
      " dense_3 (Dense)             (None, 256)               2097408   \n",
      "                                                                 \n",
      " batch_normalization_7 (Bat  (None, 256)               1024      \n",
      " chNormalization)                                                \n",
      "                                                                 \n",
      " activation_7 (Activation)   (None, 256)               0         \n",
      "                                                                 \n",
      " dropout_7 (Dropout)         (None, 256)               0         \n",
      "                                                                 \n",
      " dense_4 (Dense)             (None, 7)                 1799      \n",
      "                                                                 \n",
      "=================================================================\n",
      "Total params: 25687943 (97.99 MB)\n",
      "Trainable params: 2099719 (8.01 MB)\n",
      "Non-trainable params: 23588224 (89.98 MB)\n",
      "_________________________________________________________________\n"
     ]
    },
    {
     "ename": "",
     "evalue": "",
     "output_type": "error",
     "traceback": [
      "\u001b[1;31mThe Kernel crashed while executing code in the the current cell or a previous cell. Please review the code in the cell(s) to identify a possible cause of the failure. Click <a href='https://aka.ms/vscodeJupyterKernelCrash'>here</a> for more info. View Jupyter <a href='command:jupyter.viewOutput'>log</a> for further details."
     ]
    }
   ],
   "source": [
    "resnet = tf.keras.applications.ResNet50(input_shape=(picture_size, picture_size, 3), include_top=False, weights='imagenet')\n",
    "resnet.trainable = False\n",
    "\n",
    "resnet_model = tf.keras.Sequential([\n",
    "    resnet,\n",
    "\n",
    "    tf.keras.layers.Flatten(),\n",
    "    \n",
    "    tf.keras.layers.Dense(256),\n",
    "    tf.keras.layers.BatchNormalization(),\n",
    "    tf.keras.layers.Activation('relu'),\n",
    "    tf.keras.layers.Dropout(0.3),\n",
    "    \n",
    "    tf.keras.layers.Dense(no_of_classes, activation='softmax')\n",
    "])\n",
    "\n",
    "opt = Adam(learning_rate= 0.0001)\n",
    "resnet_model.compile(optimizer=opt,loss='categorical_crossentropy', metrics=['accuracy'])\n",
    "resnet_model.summary()"
   ]
  },
  {
   "cell_type": "code",
   "execution_count": 13,
   "metadata": {},
   "outputs": [],
   "source": [
    "checkpoint = ModelCheckpoint(\"models/gray/resnet_model_3.h5\", monitor='val_accuracy', verbose=1, save_best_only=True, mode='max')\n",
    "\n",
    "early_stopping = EarlyStopping(monitor='val_loss',\n",
    "                          min_delta=0.0001,\n",
    "                          patience=5,\n",
    "                          verbose=1,\n",
    "                          restore_best_weights=True\n",
    "                          )\n",
    "\n",
    "reduce_learningrate = ReduceLROnPlateau(monitor='val_loss',\n",
    "                              factor=0.2,\n",
    "                              patience=5,\n",
    "                              verbose=1,\n",
    "                              min_delta=0.0001)\n",
    "\n",
    "callbacks_list = [early_stopping,checkpoint,reduce_learningrate]\n",
    "\n",
    "resnet_model.compile(loss='categorical_crossentropy',\n",
    "              optimizer = Adam(learning_rate=0.001),\n",
    "              metrics=['accuracy'])"
   ]
  },
  {
   "cell_type": "code",
   "execution_count": 14,
   "metadata": {},
   "outputs": [
    {
     "name": "stdout",
     "output_type": "stream",
     "text": [
      "Epoch 1/75\n",
      "449/449 [==============================] - ETA: 0s - loss: 1.7061 - accuracy: 0.3444\n",
      "Epoch 1: val_accuracy improved from -inf to 0.39113, saving model to models/gray\\resnet_model_3.h5\n",
      "449/449 [==============================] - 116s 256ms/step - loss: 1.7061 - accuracy: 0.3444 - val_loss: 1.5502 - val_accuracy: 0.3911 - lr: 0.0010\n",
      "Epoch 2/75\n",
      "449/449 [==============================] - ETA: 0s - loss: 1.5300 - accuracy: 0.4115\n",
      "Epoch 2: val_accuracy improved from 0.39113 to 0.42013, saving model to models/gray\\resnet_model_3.h5\n",
      "449/449 [==============================] - 119s 264ms/step - loss: 1.5300 - accuracy: 0.4115 - val_loss: 1.5150 - val_accuracy: 0.4201 - lr: 0.0010\n",
      "Epoch 3/75\n",
      "449/449 [==============================] - ETA: 0s - loss: 1.4837 - accuracy: 0.4291\n",
      "Epoch 3: val_accuracy did not improve from 0.42013\n",
      "449/449 [==============================] - 116s 258ms/step - loss: 1.4837 - accuracy: 0.4291 - val_loss: 1.5154 - val_accuracy: 0.4175 - lr: 0.0010\n",
      "Epoch 4/75\n",
      "449/449 [==============================] - ETA: 0s - loss: 1.4464 - accuracy: 0.4462\n",
      "Epoch 4: val_accuracy improved from 0.42013 to 0.43142, saving model to models/gray\\resnet_model_3.h5\n",
      "449/449 [==============================] - 114s 254ms/step - loss: 1.4464 - accuracy: 0.4462 - val_loss: 1.4809 - val_accuracy: 0.4314 - lr: 0.0010\n",
      "Epoch 5/75\n",
      "449/449 [==============================] - ETA: 0s - loss: 1.4214 - accuracy: 0.4582\n",
      "Epoch 5: val_accuracy did not improve from 0.43142\n",
      "449/449 [==============================] - 115s 256ms/step - loss: 1.4214 - accuracy: 0.4582 - val_loss: 1.4942 - val_accuracy: 0.4247 - lr: 0.0010\n",
      "Epoch 6/75\n",
      "449/449 [==============================] - ETA: 0s - loss: 1.3924 - accuracy: 0.4714\n",
      "Epoch 6: val_accuracy improved from 0.43142 to 0.43853, saving model to models/gray\\resnet_model_3.h5\n",
      "449/449 [==============================] - 119s 264ms/step - loss: 1.3924 - accuracy: 0.4714 - val_loss: 1.4842 - val_accuracy: 0.4385 - lr: 0.0010\n",
      "Epoch 7/75\n",
      "449/449 [==============================] - ETA: 0s - loss: 1.3677 - accuracy: 0.4780\n",
      "Epoch 7: val_accuracy improved from 0.43853 to 0.44438, saving model to models/gray\\resnet_model_3.h5\n",
      "449/449 [==============================] - 119s 264ms/step - loss: 1.3677 - accuracy: 0.4780 - val_loss: 1.4654 - val_accuracy: 0.4444 - lr: 0.0010\n",
      "Epoch 8/75\n",
      "449/449 [==============================] - ETA: 0s - loss: 1.3448 - accuracy: 0.4914\n",
      "Epoch 8: val_accuracy did not improve from 0.44438\n",
      "449/449 [==============================] - 118s 263ms/step - loss: 1.3448 - accuracy: 0.4914 - val_loss: 1.4838 - val_accuracy: 0.4343 - lr: 0.0010\n",
      "Epoch 9/75\n",
      "449/449 [==============================] - ETA: 0s - loss: 1.3154 - accuracy: 0.5049\n",
      "Epoch 9: val_accuracy improved from 0.44438 to 0.44592, saving model to models/gray\\resnet_model_3.h5\n",
      "449/449 [==============================] - 115s 257ms/step - loss: 1.3154 - accuracy: 0.5049 - val_loss: 1.4712 - val_accuracy: 0.4459 - lr: 0.0010\n",
      "Epoch 10/75\n",
      "449/449 [==============================] - ETA: 0s - loss: 1.2950 - accuracy: 0.5103\n",
      "Epoch 10: val_accuracy did not improve from 0.44592\n",
      "449/449 [==============================] - 115s 257ms/step - loss: 1.2950 - accuracy: 0.5103 - val_loss: 1.4966 - val_accuracy: 0.4296 - lr: 0.0010\n",
      "Epoch 11/75\n",
      "449/449 [==============================] - ETA: 0s - loss: 1.2726 - accuracy: 0.5224\n",
      "Epoch 11: val_accuracy improved from 0.44592 to 0.44773, saving model to models/gray\\resnet_model_3.h5\n",
      "449/449 [==============================] - 115s 256ms/step - loss: 1.2726 - accuracy: 0.5224 - val_loss: 1.4925 - val_accuracy: 0.4477 - lr: 0.0010\n",
      "Epoch 12/75\n",
      "449/449 [==============================] - ETA: 0s - loss: 1.2497 - accuracy: 0.5295Restoring model weights from the end of the best epoch: 7.\n",
      "\n",
      "Epoch 12: val_accuracy did not improve from 0.44773\n",
      "\n",
      "Epoch 12: ReduceLROnPlateau reducing learning rate to 0.00020000000949949026.\n",
      "449/449 [==============================] - 115s 256ms/step - loss: 1.2497 - accuracy: 0.5295 - val_loss: 1.4796 - val_accuracy: 0.4473 - lr: 0.0010\n",
      "Epoch 12: early stopping\n",
      "CPU times: total: 1h 12min 41s\n",
      "Wall time: 23min 14s\n"
     ]
    }
   ],
   "source": [
    "%%time\n",
    "history = resnet_model.fit(train_set,\n",
    "                                #steps_per_epoch=train_set.n//train_set.batch_size,\n",
    "                                epochs=epochs,\n",
    "                                validation_data = val_set,\n",
    "                                #validation_steps = val_set.n//val_set.batch_size,\n",
    "                                callbacks=callbacks_list\n",
    "                                )"
   ]
  },
  {
   "cell_type": "markdown",
   "metadata": {},
   "source": [
    "### Test"
   ]
  },
  {
   "cell_type": "code",
   "execution_count": 19,
   "metadata": {},
   "outputs": [],
   "source": [
    "classifier =load_model(r'models\\gray\\own_model_gray.h5')"
   ]
  },
  {
   "cell_type": "code",
   "execution_count": 41,
   "metadata": {},
   "outputs": [],
   "source": [
    "def image_test (image_name):\n",
    "    aux_img = \"data_test/\"+image_name\n",
    "    img = image.load_img(aux_img,target_size = (48,48),color_mode = \"grayscale\")\n",
    "    img = np.array(img)\n",
    "    plt.imshow(img)\n",
    "    print(img.shape)\n",
    "\n",
    "    img = np.expand_dims(img,axis = 0)\n",
    "    img = img.reshape(1,48,48,1)\n",
    "    result = classifier.predict(img)\n",
    "    result = list(result[0])\n",
    "    img_index = result.index(max(result))\n",
    "    print(label_dict[img_index])"
   ]
  },
  {
   "cell_type": "code",
   "execution_count": 45,
   "metadata": {},
   "outputs": [
    {
     "name": "stdout",
     "output_type": "stream",
     "text": [
      "(48, 48)\n",
      "1/1 [==============================] - 0s 25ms/step\n",
      "Angry\n"
     ]
    },
    {
     "data": {
      "image/png": "[encoded data removed]",
      "text/plain": [
       "<Figure size 640x480 with 1 Axes>"
      ]
     },
     "metadata": {},
     "output_type": "display_data"
    }
   ],
   "source": [
    "image_test('angry.png')"
   ]
  },
  {
   "cell_type": "code",
   "execution_count": 57,
   "metadata": {},
   "outputs": [
    {
     "name": "stdout",
     "output_type": "stream",
     "text": [
      "(48, 48)\n",
      "1/1 [==============================] - 0s 41ms/step\n",
      "Surprise\n"
     ]
    },
    {
     "data": {
      "image/png": "[encoded data removed]",
      "text/plain": [
       "<Figure size 640x480 with 1 Axes>"
      ]
     },
     "metadata": {},
     "output_type": "display_data"
    }
   ],
   "source": [
    "image_test('neutral.png')"
   ]
  },
  {
   "cell_type": "code",
   "execution_count": null,
   "metadata": {},
   "outputs": [],
   "source": []
  }
 ],
 "metadata": {
  "kernelspec": {
   "display_name": "env",
   "language": "python",
   "name": "python3"
  },
  "language_info": {
   "codemirror_mode": {
    "name": "ipython",
    "version": 3
   },
   "file_extension": ".py",
   "mimetype": "text/x-python",
   "name": "python",
   "nbconvert_exporter": "python",
   "pygments_lexer": "ipython3",
   "version": "3.10.9"
  },
  "orig_nbformat": 4
 },
 "nbformat": 4,
 "nbformat_minor": 2
}
